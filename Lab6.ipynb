{
 "cells": [
  {
   "cell_type": "code",
   "execution_count": 16,
   "metadata": {},
   "outputs": [],
   "source": [
    "import pandas as pd\n",
    "from sklearn.preprocessing import StandardScaler, LabelEncoder\n",
    "from sklearn.impute import SimpleImputer\n",
    "\n",
    "# Load the training dataset\n",
    "train_data = pd.read_excel(\"Train_data.xlsx\")\n",
    "\n",
    "# Load the test dataset\n",
    "test_data = pd.read_excel(\"Test_data.xlsx\")\n",
    "\n",
    "global numerical_cols\n",
    "global categorical_cols\n",
    "\n",
    "# Preprocessing function\n",
    "def preprocess_data(data):\n",
    "    # Separate numerical and categorical columns\n",
    "    \n",
    "    numerical_cols = data.select_dtypes(include=['float64', 'int64']).columns\n",
    "    categorical_cols = data.select_dtypes(include=['object']).columns\n",
    "    \n",
    "    # Handle missing values for numerical columns\n",
    "    imputer = SimpleImputer(strategy='mean')\n",
    "    data[numerical_cols] = imputer.fit_transform(data[numerical_cols])\n",
    "    \n",
    "    # Encode categorical variables\n",
    "    label_encoders = {}\n",
    "    for col in categorical_cols:\n",
    "        label_encoders[col] = LabelEncoder()\n",
    "        data[col] = label_encoders[col].fit_transform(data[col])\n",
    "    \n",
    "    return data, label_encoders, imputer\n",
    "\n",
    "# Preprocess the training data\n",
    "X_train_processed, label_encoders_train, imputer_train = preprocess_data(train_data)\n",
    "y_train = train_data[\"class\"]"
   ]
  },
  {
   "cell_type": "code",
   "execution_count": null,
   "metadata": {},
   "outputs": [],
   "source": []
  }
 ],
 "metadata": {
  "kernelspec": {
   "display_name": "Python 3",
   "language": "python",
   "name": "python3"
  },
  "language_info": {
   "codemirror_mode": {
    "name": "ipython",
    "version": 3
   },
   "file_extension": ".py",
   "mimetype": "text/x-python",
   "name": "python",
   "nbconvert_exporter": "python",
   "pygments_lexer": "ipython3",
   "version": "3.12.2"
  }
 },
 "nbformat": 4,
 "nbformat_minor": 2
}
